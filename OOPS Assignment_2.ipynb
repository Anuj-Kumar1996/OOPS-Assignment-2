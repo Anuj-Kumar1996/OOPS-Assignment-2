{
 "cells": [
  {
   "cell_type": "code",
   "execution_count": null,
   "id": "67870cca-1ed6-448b-9d8e-b48804147049",
   "metadata": {},
   "outputs": [],
   "source": [
    "# Q1. What is Abstraction in OOps? Explain with an example.\n",
    "Abstraction in OOPs is the process of hiding the complex implementation details of an object and exposing only the necessary features. This allows users to interact with objects without needing to understand the underlying complexity.\n",
    "Example:\n",
    "Consider a car. When you drive, you use the steering wheel, pedals, and gear shift without needing to know how the engine or transmission works. The car's internal workings are abstracted away, allowing you to focus on driving."
   ]
  },
  {
   "cell_type": "code",
   "execution_count": null,
   "id": "24079b7d-246d-48df-8148-cf5f29180e61",
   "metadata": {},
   "outputs": [],
   "source": [
    "# Q2. Differentiate between Abstraction and Encapsulation. Explain with an example.\n",
    "Abstraction focuses on hiding the complex implementation details and showing only essential features. It deals with the design level.\n",
    "Example: Using a TV remote without knowing its internal circuitry.\n",
    "Encapsulation is about bundling data and methods that operate on that data within a single unit or class, restricting access to some components.\n",
    "Example: A class in Python that has private variables and public methods to access them.\n"
   ]
  },
  {
   "cell_type": "code",
   "execution_count": null,
   "id": "f403224d-0482-449c-a3ce-0a1777be7482",
   "metadata": {},
   "outputs": [],
   "source": [
    "# Q3. What is abc module in python? Why is it used?\n",
    "The abc module in Python provides tools for defining abstract base classes. It allows you to create classes that cannot be instantiated directly but can be used as blueprints for other classes.\n"
   ]
  },
  {
   "cell_type": "code",
   "execution_count": 1,
   "id": "7b2b096f-eb89-4cee-80a4-ffbe09d3b66d",
   "metadata": {},
   "outputs": [
    {
     "name": "stdout",
     "output_type": "stream",
     "text": [
      "Car started\n"
     ]
    }
   ],
   "source": [
    "from abc import ABC, abstractmethod\n",
    "\n",
    "class Vehicle(ABC):\n",
    "    @abstractmethod\n",
    "    def start(self):\n",
    "        pass\n",
    "\n",
    "class Car(Vehicle):\n",
    "    def start(self):\n",
    "        print(\"Car started\")\n",
    "\n",
    "car = Car()\n",
    "car.start()"
   ]
  },
  {
   "cell_type": "code",
   "execution_count": null,
   "id": "e2fed5a9-3c16-4fee-9402-2083322bda1e",
   "metadata": {},
   "outputs": [],
   "source": [
    "# Q4. How can we achieve data abstraction?\n",
    "Data abstraction can be achieved using abstract classes and interfaces that define methods without implementing them. Concrete classes then implement these methods, hiding the complexity from the user."
   ]
  },
  {
   "cell_type": "code",
   "execution_count": null,
   "id": "9fc4d218-695d-451f-82c2-9e823a8fc44a",
   "metadata": {},
   "outputs": [],
   "source": [
    "Q5. Can we create an instance of an abstract class? Explain your answer.\n",
    "No, we cannot create an instance of an abstract class. Abstract classes are meant to be inherited by other classes that provide implementations for the abstract methods. They serve as blueprints for creating concrete classes."
   ]
  }
 ],
 "metadata": {
  "kernelspec": {
   "display_name": "Python 3 (ipykernel)",
   "language": "python",
   "name": "python3"
  },
  "language_info": {
   "codemirror_mode": {
    "name": "ipython",
    "version": 3
   },
   "file_extension": ".py",
   "mimetype": "text/x-python",
   "name": "python",
   "nbconvert_exporter": "python",
   "pygments_lexer": "ipython3",
   "version": "3.12.4"
  }
 },
 "nbformat": 4,
 "nbformat_minor": 5
}
